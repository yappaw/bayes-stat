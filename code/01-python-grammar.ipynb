{
 "cells": [
  {
   "cell_type": "code",
   "execution_count": 7,
   "id": "3f798195",
   "metadata": {},
   "outputs": [
    {
     "name": "stdout",
     "output_type": "stream",
     "text": [
      "5\n",
      "True\n",
      "5\n",
      "110402009446440\n",
      "110402009446600\n"
     ]
    }
   ],
   "source": [
    "# 1. Variables\n",
    "\n",
    "x = 5\n",
    "print(x)\n",
    "y = x   # primitives / immutables (cannot be modified in-place): deep copy / pass by value\n",
    "print(y is x)\n",
    "y = 10\n",
    "print(x)\n",
    "#print(y is x)\n",
    "print(id(x))  # check address of int object (on heap) that x points to, but no direct way to check address of x as reference (on stack)\n",
    "print(id(y))\n",
    "#y = 15\n",
    "#print(id(y))  # address change"
   ]
  },
  {
   "cell_type": "code",
   "execution_count": 11,
   "id": "c1070be1",
   "metadata": {},
   "outputs": [
    {
     "name": "stdout",
     "output_type": "stream",
     "text": [
      "Hello World\n",
      "True\n",
      "123783129529344\n",
      "123783129529344\n"
     ]
    }
   ],
   "source": [
    "# 2. Data types\n",
    "\n",
    "# Numbers (int, float)\n",
    "a = 5\n",
    "b = 10.5\n",
    "\n",
    "# Strings\n",
    "words = 'Hello World'\n",
    "print(words)\n",
    "\n",
    "# Lists\n",
    "numbers1 = [1, 2, 3, 4, 5]\n",
    "numbers2 = numbers1   # non-primitives / mutables (can be modified in-place): shallow copy / pass by reference (indeed still pass by value 'of reference', which is address)\n",
    "print(numbers2 is numbers1)\n",
    "numbers2[0] = 10\n",
    "#print(numbers1[0])\n",
    "#print(numbers2 is numbers1)\n",
    "print(id(numbers1))\n",
    "print(id(numbers2))  # numbers1 and numbers2 are different references (holding same address on stack, stack overflow?) pointing to same object/location on heap (buffer overflow?)\n",
    "#names = [\"John\", \"Mike\", \"Emily\"]\n",
    "#print(names[1])\n",
    "\n",
    "# Tuples\n",
    "#person = (\"John\", 30, \"New York\")"
   ]
  },
  {
   "cell_type": "code",
   "execution_count": 3,
   "id": "cb9f79e5",
   "metadata": {},
   "outputs": [
    {
     "name": "stdout",
     "output_type": "stream",
     "text": [
      "x is greater than or equal to y\n"
     ]
    }
   ],
   "source": [
    "# 3. Conditional statements\n",
    "\n",
    "x = 15\n",
    "y = 10\n",
    "\n",
    "if x < y:\n",
    "    print(\"x is less than y\")\n",
    "else:\n",
    "    print(\"x is greater than or equal to y\")"
   ]
  },
  {
   "cell_type": "code",
   "execution_count": 4,
   "id": "25492196",
   "metadata": {},
   "outputs": [
    {
     "name": "stdout",
     "output_type": "stream",
     "text": [
      "0\n",
      "1\n",
      "2\n",
      "3\n",
      "4\n",
      "0\n",
      "1\n",
      "2\n",
      "3\n",
      "4\n"
     ]
    }
   ],
   "source": [
    "# 4. Loops\n",
    "\n",
    "# For loop\n",
    "for i in range(5):\n",
    "    print(i)\n",
    "\n",
    "# While loop\n",
    "i = 0\n",
    "while i < 5:\n",
    "    print(i)\n",
    "    i += 1"
   ]
  },
  {
   "cell_type": "code",
   "execution_count": 3,
   "id": "7c2112c3",
   "metadata": {},
   "outputs": [
    {
     "name": "stdout",
     "output_type": "stream",
     "text": [
      "15\n"
     ]
    }
   ],
   "source": [
    "# 5. Functions\n",
    "\n",
    "def add(c, d):\n",
    "    e = c+d\n",
    "    return e\n",
    "\n",
    "\n",
    "result = add(5, 10)\n",
    "print(result)"
   ]
  },
  {
   "cell_type": "code",
   "execution_count": 6,
   "id": "3737971b",
   "metadata": {},
   "outputs": [
    {
     "name": "stdout",
     "output_type": "stream",
     "text": [
      "1\n",
      "2\n",
      "3\n",
      "4\n",
      "5\n"
     ]
    }
   ],
   "source": [
    "# 6. Lists and for-loop\n",
    "\n",
    "numbers = [1, 2, 3, 4, 5]\n",
    "for number in numbers:\n",
    "    print(number)"
   ]
  },
  {
   "cell_type": "code",
   "execution_count": 4,
   "id": "3d377dff",
   "metadata": {},
   "outputs": [
    {
     "name": "stdout",
     "output_type": "stream",
     "text": [
      "John\n"
     ]
    }
   ],
   "source": [
    "# 7. Dictionaries\n",
    "\n",
    "person = {\"name\": \"John\", \"age\": 30, \"city\": \"New York\"}  # key-value pair\n",
    "print(person[\"name\"])"
   ]
  },
  {
   "cell_type": "code",
   "execution_count": 8,
   "id": "27e4d6b0",
   "metadata": {},
   "outputs": [
    {
     "name": "stdout",
     "output_type": "stream",
     "text": [
      "[1, 4, 9, 16, 25]\n"
     ]
    }
   ],
   "source": [
    "# 8. List comprehension\n",
    "\n",
    "numbers = [1, 2, 3, 4, 5]\n",
    "squared_numbers = [x ** 2 for x in numbers]\n",
    "print(squared_numbers)"
   ]
  },
  {
   "cell_type": "code",
   "execution_count": 9,
   "id": "a5b97ada",
   "metadata": {},
   "outputs": [
    {
     "name": "stdout",
     "output_type": "stream",
     "text": [
      "Cannot divide by zero!\n"
     ]
    }
   ],
   "source": [
    "# 9. Try-except\n",
    "\n",
    "try:\n",
    "    x = 5 / 0\n",
    "except ZeroDivisionError:\n",
    "    print(\"Cannot divide by zero!\")"
   ]
  },
  {
   "cell_type": "code",
   "execution_count": 4,
   "id": "fac613dd",
   "metadata": {},
   "outputs": [
    {
     "name": "stdout",
     "output_type": "stream",
     "text": [
      "Car Info: Toyota Camry\n",
      "Car Engine Status: True\n",
      "True\n",
      "\n",
      "Plane Info: Boeing 747\n",
      "Plane Engine Status: True\n",
      "\n",
      "Toyota Camry is driving on the road.\n",
      "Boeing 747 is flying in the sky.\n"
     ]
    }
   ],
   "source": [
    "# 10. Class\n",
    "# 4 key tenets: encapsulation, abstraction, inheritance, polymorphism\n",
    "\n",
    "class Vehicle:\n",
    "    def __init__(self, make, model):\n",
    "        self._make = make  # Protected attribute for encapsulation\n",
    "        self._model = model  # Protected attribute for encapsulation\n",
    "        self.__engine_status = False  # Private member with double leading underscore for name mangling\n",
    "\n",
    "    def start_engine(self):\n",
    "        self.__engine_status = True\n",
    "\n",
    "    def stop_engine(self):\n",
    "        self.__engine_status = False\n",
    "\n",
    "    def is_engine_running(self):\n",
    "        return self.__engine_status\n",
    "\n",
    "    def display_info(self):\n",
    "        return f\"{self._make} {self._model}\"\n",
    "\n",
    "    def move(self):\n",
    "        raise NotImplementedError(\"Subclasses must implement the move method\")  # abstraction\n",
    "\n",
    "# Car class (Inheritance)\n",
    "class Car(Vehicle):\n",
    "    def move(self):  # Polymorphism (Method Overriding), no direct support for method overloading as in C++/Java\n",
    "        return f\"{self.display_info()} is driving on the road.\"\n",
    "\n",
    "# Plane class (Inheritance)\n",
    "class Plane(Vehicle):\n",
    "    def move(self):  # Polymorphism (Method Overriding)\n",
    "        return f\"{self.display_info()} is flying in the sky.\"\n",
    "\n",
    "# Creating instances of different vehicles\n",
    "car = Car(make=\"Toyota\", model=\"Camry\")\n",
    "plane = Plane(make=\"Boeing\", model=\"747\")\n",
    "\n",
    "# Accessing encapsulated and private members\n",
    "print(\"Car Info:\", car.display_info())  # Accessing encapsulated members\n",
    "car.start_engine()  # Accessing private member with name mangling\n",
    "print(\"Car Engine Status:\", car.is_engine_running())\n",
    "# print(car.__engine_status)\n",
    "# print(car._Vehicle__engine_status)\n",
    "\n",
    "print(\"\\nPlane Info:\", plane.display_info())  # Accessing encapsulated members\n",
    "plane.start_engine()  # Accessing private member with name mangling\n",
    "print(\"Plane Engine Status:\", plane.is_engine_running())\n",
    "\n",
    "# Moving vehicles with polymorphism\n",
    "print(\"\\n\" + car.move())    # Output: Toyota Camry is driving on the road.\n",
    "print(plane.move())          # Output: Boeing 747 is flying in the sky."
   ]
  }
 ],
 "metadata": {
  "kernelspec": {
   "display_name": "Python 3",
   "language": "python",
   "name": "python3"
  },
  "language_info": {
   "codemirror_mode": {
    "name": "ipython",
    "version": 3
   },
   "file_extension": ".py",
   "mimetype": "text/x-python",
   "name": "python",
   "nbconvert_exporter": "python",
   "pygments_lexer": "ipython3",
   "version": "3.12.1"
  },
  "vscode": {
   "interpreter": {
    "hash": "aee8b7b246df8f9039afb4144a1f6fd8d2ca17a180786b69acc140d282b71a49"
   }
  }
 },
 "nbformat": 4,
 "nbformat_minor": 5
}
